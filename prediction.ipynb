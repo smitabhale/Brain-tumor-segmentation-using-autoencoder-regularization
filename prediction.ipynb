{
 "cells": [
  {
   "cell_type": "code",
   "execution_count": 1,
   "metadata": {},
   "outputs": [
    {
     "name": "stderr",
     "output_type": "stream",
     "text": [
      "Using TensorFlow backend.\n"
     ]
    }
   ],
   "source": [
    "import SimpleITK as sitk  # For loading the dataset\n",
    "import numpy as np  # For data manipulation\n",
    "from model import build_model  # For creating the model\n",
    "import matplotlib.pyplot as plt\n",
    "import pandas as pd\n",
    "from scipy.ndimage import zoom\n",
    "import cv2\n",
    "import keras.backend as K\n",
    "from keras.utils import Sequence\n",
    "from keras.callbacks.callbacks import LambdaCallback"
   ]
  },
  {
   "cell_type": "code",
   "execution_count": 2,
   "metadata": {},
   "outputs": [],
   "source": [
    "class GenerateData(Sequence):\n",
    "    def __init__(self, data, input_shape, output_channels, batch_size):\n",
    "        self.data = data\n",
    "        self.input_shape = input_shape\n",
    "        self.output_channels = output_channels\n",
    "        self.batch_size = batch_size\n",
    "    \n",
    "    def __len__(self):\n",
    "        return int(np.ceil(len(self.data) / float(self.batch_size)))\n",
    "    \n",
    "    def __getitem__(self, idx):\n",
    "        \n",
    "        imgs = self.data[idx * self.batch_size:(idx + 1) * self.batch_size]\n",
    "        data_x = np.empty((self.batch_size,) + self.input_shape, dtype=np.float32)\n",
    "        labels = np.empty((self.batch_size, self.output_channels) + self.input_shape[1:], dtype=np.uint8)\n",
    "\n",
    "        for index, img in enumerate(imgs):\n",
    "            data_x[index] = np.array([preprocess(read_img(img[m]), self.input_shape[1:]) for m in ['t1', 't2', 't1ce', 'flair']], dtype=np.float32)\n",
    "            labels[index] = preprocess_label(read_img(img['seg']), self.input_shape[1:])[None, ...]\n",
    "        \n",
    "        # batch_x = self.x[idx * self.batch_size:(idx + 1) * self.batch_size]\n",
    "        # batch_y = self.y[idx * self.batch_size:(idx + 1) * self.batch_size]\n",
    "        # print(\"X shape\",data_x.shape)\n",
    "        # print(\"Y shape\",labels.shape)\n",
    "        return data_x, labels\n",
    "    \n",
    "val_samples = [{'t1': 'HGG/Brats18_TCIA01_460_1/Brats18_TCIA01_460_1_t1.nii.gz', 't2': 'HGG/Brats18_TCIA01_460_1/Brats18_TCIA01_460_1_t2.nii.gz', 't1ce': 'HGG/Brats18_TCIA01_460_1/Brats18_TCIA01_460_1_t1ce.nii.gz', 'flair': 'HGG/Brats18_TCIA01_460_1/Brats18_TCIA01_460_1_flair.nii.gz', 'seg': 'HGG/Brats18_TCIA01_460_1/Brats18_TCIA01_460_1_seg.nii.gz'}, {'t1': 'HGG/Brats18_CBICA_AMH_1/Brats18_CBICA_AMH_1_t1.nii.gz', 't2': 'HGG/Brats18_CBICA_AMH_1/Brats18_CBICA_AMH_1_t2.nii.gz', 't1ce': 'HGG/Brats18_CBICA_AMH_1/Brats18_CBICA_AMH_1_t1ce.nii.gz', 'flair': 'HGG/Brats18_CBICA_AMH_1/Brats18_CBICA_AMH_1_flair.nii.gz', 'seg': 'HGG/Brats18_CBICA_AMH_1/Brats18_CBICA_AMH_1_seg.nii.gz'}, {'t1': 'HGG/Brats18_CBICA_ASV_1/Brats18_CBICA_ASV_1_t1.nii.gz', 't2': 'HGG/Brats18_CBICA_ASV_1/Brats18_CBICA_ASV_1_t2.nii.gz', 't1ce': 'HGG/Brats18_CBICA_ASV_1/Brats18_CBICA_ASV_1_t1ce.nii.gz', 'flair': 'HGG/Brats18_CBICA_ASV_1/Brats18_CBICA_ASV_1_flair.nii.gz', 'seg': 'HGG/Brats18_CBICA_ASV_1/Brats18_CBICA_ASV_1_seg.nii.gz'}, {'t1': 'HGG/Brats18_TCIA02_377_1/Brats18_TCIA02_377_1_t1.nii.gz', 't2': 'HGG/Brats18_TCIA02_377_1/Brats18_TCIA02_377_1_t2.nii.gz', 't1ce': 'HGG/Brats18_TCIA02_377_1/Brats18_TCIA02_377_1_t1ce.nii.gz', 'flair': 'HGG/Brats18_TCIA02_377_1/Brats18_TCIA02_377_1_flair.nii.gz', 'seg': 'HGG/Brats18_TCIA02_377_1/Brats18_TCIA02_377_1_seg.nii.gz'}, {'t1': 'HGG/Brats18_CBICA_ATD_1/Brats18_CBICA_ATD_1_t1.nii.gz', 't2': 'HGG/Brats18_CBICA_ATD_1/Brats18_CBICA_ATD_1_t2.nii.gz', 't1ce': 'HGG/Brats18_CBICA_ATD_1/Brats18_CBICA_ATD_1_t1ce.nii.gz', 'flair': 'HGG/Brats18_CBICA_ATD_1/Brats18_CBICA_ATD_1_flair.nii.gz', 'seg': 'HGG/Brats18_CBICA_ATD_1/Brats18_CBICA_ATD_1_seg.nii.gz'}, {'t1': 'HGG/Brats18_TCIA02_374_1/Brats18_TCIA02_374_1_t1.nii.gz', 't2': 'HGG/Brats18_TCIA02_374_1/Brats18_TCIA02_374_1_t2.nii.gz', 't1ce': 'HGG/Brats18_TCIA02_374_1/Brats18_TCIA02_374_1_t1ce.nii.gz', 'flair': 'HGG/Brats18_TCIA02_374_1/Brats18_TCIA02_374_1_flair.nii.gz', 'seg': 'HGG/Brats18_TCIA02_374_1/Brats18_TCIA02_374_1_seg.nii.gz'}, {'t1': 'HGG/Brats18_TCIA03_133_1/Brats18_TCIA03_133_1_t1.nii.gz', 't2': 'HGG/Brats18_TCIA03_133_1/Brats18_TCIA03_133_1_t2.nii.gz', 't1ce': 'HGG/Brats18_TCIA03_133_1/Brats18_TCIA03_133_1_t1ce.nii.gz', 'flair': 'HGG/Brats18_TCIA03_133_1/Brats18_TCIA03_133_1_flair.nii.gz', 'seg': 'HGG/Brats18_TCIA03_133_1/Brats18_TCIA03_133_1_seg.nii.gz'}, {'t1': 'HGG/Brats18_TCIA03_265_1/Brats18_TCIA03_265_1_t1.nii.gz', 't2': 'HGG/Brats18_TCIA03_265_1/Brats18_TCIA03_265_1_t2.nii.gz', 't1ce': 'HGG/Brats18_TCIA03_265_1/Brats18_TCIA03_265_1_t1ce.nii.gz', 'flair': 'HGG/Brats18_TCIA03_265_1/Brats18_TCIA03_265_1_flair.nii.gz', 'seg': 'HGG/Brats18_TCIA03_265_1/Brats18_TCIA03_265_1_seg.nii.gz'}, {'t1': 'HGG/Brats18_TCIA02_394_1/Brats18_TCIA02_394_1_t1.nii.gz', 't2': 'HGG/Brats18_TCIA02_394_1/Brats18_TCIA02_394_1_t2.nii.gz', 't1ce': 'HGG/Brats18_TCIA02_394_1/Brats18_TCIA02_394_1_t1ce.nii.gz', 'flair': 'HGG/Brats18_TCIA02_394_1/Brats18_TCIA02_394_1_flair.nii.gz', 'seg': 'HGG/Brats18_TCIA02_394_1/Brats18_TCIA02_394_1_seg.nii.gz'}, {'t1': 'HGG/Brats18_2013_21_1/Brats18_2013_21_1_t1.nii.gz', 't2': 'HGG/Brats18_2013_21_1/Brats18_2013_21_1_t2.nii.gz', 't1ce': 'HGG/Brats18_2013_21_1/Brats18_2013_21_1_t1ce.nii.gz', 'flair': 'HGG/Brats18_2013_21_1/Brats18_2013_21_1_flair.nii.gz', 'seg': 'HGG/Brats18_2013_21_1/Brats18_2013_21_1_seg.nii.gz'}]"
   ]
  },
  {
   "cell_type": "code",
   "execution_count": 3,
   "metadata": {},
   "outputs": [],
   "source": [
    "def read_img(img_path):\n",
    "    \"\"\"\n",
    "    Reads a .nii.gz image and returns as a numpy array.\n",
    "    \"\"\"\n",
    "    return sitk.GetArrayFromImage(sitk.ReadImage(img_path))\n",
    "\n",
    "\n",
    "def resize(img, shape, mode='constant', orig_shape=(155, 240, 240)):\n",
    "    \"\"\"\n",
    "    Wrapper for scipy.ndimage.zoom suited for MRI images.\n",
    "    \"\"\"\n",
    "    assert len(shape) == 3, \"Can not have more than 3 dimensions\"\n",
    "    factors = (\n",
    "        shape[0]/orig_shape[0],\n",
    "        shape[1]/orig_shape[1], \n",
    "        shape[2]/orig_shape[2]\n",
    "    )\n",
    "    \n",
    "    # Resize to the given shape\n",
    "    return zoom(img, factors, mode=mode)\n",
    "\n",
    "\n",
    "def preprocess(img, out_shape=None):\n",
    "    \"\"\"\n",
    "    Preprocess the image.\n",
    "    Just an example, you can add more preprocessing steps if you wish to.\n",
    "    \"\"\"\n",
    "    if out_shape is not None:\n",
    "        img = resize(img, out_shape, mode='constant')\n",
    "    \n",
    "    # Normalize the image\n",
    "    mean = img.mean()\n",
    "    std = img.std()\n",
    "    return (img - mean) / std\n",
    "\n",
    "\n",
    "def preprocess_label(img, out_shape=None, mode='nearest'):\n",
    "    \"\"\"\n",
    "    Separates out the 3 labels from the segmentation provided, namely:\n",
    "    GD-enhancing tumor (ET ? label 4), the peritumoral edema (ED ? label 2))\n",
    "    and the necrotic and non-enhancing tumor core (NCR/NET ? label 1)\n",
    "    \"\"\"\n",
    "    # print(img.shape)\n",
    "    # print(np.unique(img))\n",
    "    ncr = img == 1  # Necrotic and Non-Enhancing Tumor (NCR/NET)\n",
    "    ed = img == 2  # Peritumoral Edema (ED)\n",
    "    et = img == 4  # GD-enhancing Tumor (ET)\n",
    "    \n",
    "    if out_shape is not None:\n",
    "        ncr = resize(ncr, out_shape, mode=mode)\n",
    "        ed = resize(ed, out_shape, mode=mode)\n",
    "        et = resize(et, out_shape, mode=mode)\n",
    "\n",
    "    return np.array([ncr, ed, et], dtype=np.uint8)\n",
    "\n",
    "def dice_coefficient(y_true, y_pred):\n",
    "    y_true_f = K.flatten(y_true)\n",
    "    y_pred_f = K.flatten(y_pred)\n",
    "    intersection = K.sum(K.abs(y_true_f * y_pred_f), axis=-1)\n",
    "    return (2. * intersection) / (\n",
    "        K.sum(K.square(y_true_f), -1) + K.sum(K.square(y_pred_f), -1) + 1e-8)"
   ]
  },
  {
   "cell_type": "code",
   "execution_count": 4,
   "metadata": {},
   "outputs": [
    {
     "name": "stderr",
     "output_type": "stream",
     "text": [
      "WARNING: Logging before flag parsing goes to stderr.\n",
      "W0206 23:56:52.564548 140512858228480 deprecation.py:506] From /usr/local/lib/python3.7/site-packages/tensorflow_core/python/ops/resource_variable_ops.py:1630: calling BaseResourceVariable.__init__ (from tensorflow.python.ops.resource_variable_ops) with constraint is deprecated and will be removed in a future version.\n",
      "Instructions for updating:\n",
      "If using Keras pass *_constraint arguments to layers.\n"
     ]
    }
   ],
   "source": [
    "input_shape = (4, 96, 112, 112)\n",
    "# input_shape = (4, 155, 240, 240)\n",
    "output_channels = 3\n",
    "model = build_model(input_shape=input_shape, output_channels=3)\n",
    "model.load_weights('weights/weights.epoch_100-loss_-0.14610-dice_0.64230-val_dice_0.58464.hdf5')\n",
    "\n",
    "# sample = {'t1': 'HGG/Brats18_TCIA01_460_1/Brats18_TCIA01_460_1_t1.nii.gz',\n",
    "#            't2': 'HGG/Brats18_TCIA01_460_1/Brats18_TCIA01_460_1_t2.nii.gz',\n",
    "#            't1ce': 'HGG/Brats18_TCIA01_460_1/Brats18_TCIA01_460_1_t1ce.nii.gz',\n",
    "#            'flair': 'HGG/Brats18_TCIA01_460_1/Brats18_TCIA01_460_1_flair.nii.gz',\n",
    "#            'seg': 'HGG/Brats18_TCIA01_460_1/Brats18_TCIA01_460_1_seg.nii.gz'}\n",
    "\n",
    "# sample = {\n",
    "#     'flair': 'LGG/Brats18_2013_0_1/Brats18_2013_0_1_flair.nii.gz',\n",
    "#     't1': 'LGG/Brats18_2013_0_1/Brats18_2013_0_1_t1.nii.gz',\n",
    "#     't2': 'LGG/Brats18_2013_0_1/Brats18_2013_0_1_t2.nii.gz',\n",
    "#     't1ce': 'LGG/Brats18_2013_0_1/Brats18_2013_0_1_t1ce.nii.gz',\n",
    "#     'seg': 'LGG/Brats18_2013_0_1/Brats18_2013_0_1_seg.nii.gz',\n",
    "# }\n",
    "\n",
    "sample = {'t1': 'HGG/Brats18_2013_21_1/Brats18_2013_21_1_t1.nii.gz', \n",
    "           't2': 'HGG/Brats18_2013_21_1/Brats18_2013_21_1_t2.nii.gz', \n",
    "           't1ce': 'HGG/Brats18_2013_21_1/Brats18_2013_21_1_t1ce.nii.gz', \n",
    "           'flair': 'HGG/Brats18_2013_21_1/Brats18_2013_21_1_flair.nii.gz', \n",
    "           'seg': 'HGG/Brats18_2013_21_1/Brats18_2013_21_1_seg.nii.gz'}\n",
    "\n",
    "data_x = np.empty((1,) + input_shape, dtype=np.float32)\n",
    "labels = np.empty((1, output_channels) + input_shape[1:], dtype=np.uint8)\n",
    "labels_original = np.empty((1, output_channels) + (96, 240, 240), dtype=np.uint8)\n",
    "\n",
    "data_x[0] = np.array([preprocess(read_img(sample[m]), input_shape[1:]) for m in ['t1', 't2', 't1ce', 'flair']], dtype=np.float32)\n",
    "labels[0] = preprocess_label(read_img(sample['seg']), input_shape[1:])[None, ...]\n",
    "labels_original[0] = preprocess_label(read_img(sample['seg']), (96, 240, 240))[None, ...]"
   ]
  },
  {
   "cell_type": "code",
   "execution_count": 15,
   "metadata": {},
   "outputs": [
    {
     "data": {
      "text/plain": [
       "<matplotlib.image.AxesImage at 0x7fcadb003e50>"
      ]
     },
     "execution_count": 15,
     "metadata": {},
     "output_type": "execute_result"
    },
    {
     "data": {
      "image/png": "[encoded data removed]",
      "text/plain": [
       "<Figure size 432x288 with 1 Axes>"
      ]
     },
     "metadata": {
      "needs_background": "light"
     },
     "output_type": "display_data"
    }
   ],
   "source": [
    "preds = model.predict(data_x)[0]\n",
    "# scores = []\n",
    "\n",
    "# for i in range(96):\n",
    "#     pred = preds[:, i,:,:]\n",
    "#     pred = np.transpose(pred, (1, 2, 0))\n",
    "#     pred = np.rint(pred)\n",
    "#     img = labels[0,:, i,:,:]\n",
    "#     img = np.transpose(img, (1, 2, 0))\n",
    "#     dice = np.sum(pred[img==1])*2.0 / (np.sum(pred) + np.sum(img))\n",
    "#     if np.isnan(dice) == False:\n",
    "#         scores.append(dice)\n",
    "\n",
    "# print(scores)\n",
    "# print(\"dice_score: %s\", np.average(scores))\n",
    "slice_no = 55\n",
    "pred = preds[:, slice_no,:,:]\n",
    "pred = np.transpose(pred, (1, 2, 0))\n",
    "pred = np.rint(pred)\n",
    "pred = pred*255\n",
    "gray1 = cv2.cvtColor(pred, cv2.COLOR_BGR2GRAY)\n",
    "gray1 = gray1.astype(np.uint8)\n",
    "plt.imshow(gray1, cmap='gray', vmin=0, vmax=255)\n",
    "# cv2.imwrite('out.png', gray1)"
   ]
  },
  {
   "cell_type": "code",
   "execution_count": 16,
   "metadata": {},
   "outputs": [
    {
     "data": {
      "text/plain": [
       "<matplotlib.image.AxesImage at 0x7fcadafebad0>"
      ]
     },
     "execution_count": 16,
     "metadata": {},
     "output_type": "execute_result"
    },
    {
     "data": {
      "image/png": "[encoded data removed]",
      "text/plain": [
       "<Figure size 432x288 with 1 Axes>"
      ]
     },
     "metadata": {
      "needs_background": "light"
     },
     "output_type": "display_data"
    }
   ],
   "source": [
    "img = labels[0,:, slice_no,:,:]\n",
    "img = np.transpose(img, (1, 2, 0))\n",
    "img = img*255\n",
    "gray2 = cv2.cvtColor(img, cv2.COLOR_BGR2GRAY)\n",
    "plt.imshow(gray2, cmap='gray', vmin=0, vmax=255)\n",
    "# cv2.imwrite('inp.png', gray2)"
   ]
  },
  {
   "cell_type": "code",
   "execution_count": 17,
   "metadata": {},
   "outputs": [
    {
     "data": {
      "text/plain": [
       "<matplotlib.image.AxesImage at 0x7fcadaf52c50>"
      ]
     },
     "execution_count": 17,
     "metadata": {},
     "output_type": "execute_result"
    },
    {
     "data": {
      "image/png": "[encoded data removed]",
      "text/plain": [
       "<Figure size 432x288 with 1 Axes>"
      ]
     },
     "metadata": {
      "needs_background": "light"
     },
     "output_type": "display_data"
    }
   ],
   "source": [
    "img = labels_original[0,:,slice_no,:,:]\n",
    "img = np.transpose(img, (1, 2, 0))\n",
    "img = img*255 \n",
    "gray3 = cv2.cvtColor(img, cv2.COLOR_BGR2GRAY)\n",
    "plt.imshow(gray3, cmap='gray', vmin=0, vmax=255)"
   ]
  },
  {
   "cell_type": "code",
   "execution_count": 8,
   "metadata": {},
   "outputs": [],
   "source": [
    "# model.evaluate(data_x, labels)\n",
    "# batch_print_callback = LambdaCallback(\n",
    "#     on_epoch_end=lambda epoch,logs: print(epoch, logs))\n",
    "# val_gen = GenerateData(val_samples, input_shape, output_channels, 1)\n",
    "# scores = model.evaluate_generator(val_gen, callbacks=[batch_print_callback],verbose=1)"
   ]
  },
  {
   "cell_type": "code",
   "execution_count": null,
   "metadata": {},
   "outputs": [],
   "source": []
  }
 ],
 "metadata": {
  "kernelspec": {
   "display_name": "Python 3",
   "language": "python",
   "name": "python3"
  },
  "language_info": {
   "codemirror_mode": {
    "name": "ipython",
    "version": 3
   },
   "file_extension": ".py",
   "mimetype": "text/x-python",
   "name": "python",
   "nbconvert_exporter": "python",
   "pygments_lexer": "ipython3",
   "version": "3.7.4"
  }
 },
 "nbformat": 4,
 "nbformat_minor": 2
}
